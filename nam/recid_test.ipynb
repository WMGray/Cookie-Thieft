{
 "cells": [
  {
   "cell_type": "code",
   "execution_count": 1,
   "metadata": {
    "scrolled": true,
    "ExecuteTime": {
     "end_time": "2024-02-25T05:19:38.062765266Z",
     "start_time": "2024-02-25T05:19:35.628480946Z"
    }
   },
   "outputs": [],
   "source": [
    "import numpy as np\n",
    "import pandas as pd\n",
    "import os\n",
    "\n",
    "import torch\n",
    "\n",
    "os.environ['CUDA_VISIBLE_DEVICES'] = \"1\"\n",
    "import sklearn.metrics as sk_metrics\n",
    "from sklearn.model_selection import train_test_split\n",
    "from sklearn.preprocessing import MinMaxScaler, StandardScaler, Normalizer\n",
    "from sklearn.preprocessing import OneHotEncoder\n",
    "from torch.utils.data import random_split, Dataset\n",
    "from sklearn.metrics import roc_auc_score, accuracy_score, precision_score, recall_score, f1_score\n",
    "from nam.wrapper import NAMClassifier, MultiTaskNAMClassifier\n",
    "import skorch\n",
    "from skorch import NeuralNetClassifier, NeuralNet, NeuralNetBinaryClassifier\n",
    "import random\n",
    "seed = 452"
   ]
  },
  {
   "cell_type": "code",
   "execution_count": 15,
   "metadata": {
    "scrolled": true
   },
   "outputs": [],
   "source": [
    "def setup_seed(seed):\n",
    "    torch.manual_seed(seed)\n",
    "    torch.cuda.manual_seed_all(seed)\n",
    "    np.random.seed(seed)\n",
    "    random.seed(seed)\n",
    "    torch.backends.cudnn.deterministic = True\n",
    "\n",
    "setup_seed(seed)"
   ]
  },
  {
   "cell_type": "code",
   "execution_count": 16,
   "metadata": {
    "scrolled": true
   },
   "outputs": [
    {
     "name": "stdout",
     "output_type": "stream",
     "text": [
      "(549, 90)\n",
      "================\n",
      "(549, 30)\n",
      "['sample', 'label', 'Feature_1_high', 'Feature_1_mid-high', 'Feature_1_mid', 'Feature_1_low', 'Feature_2_mother', 'Feature_2_jar', 'Feature_2_dish', 'Feature_2_cookie', 'Feature_2_water', 'Feature_2_stool', 'Feature_2_boy', 'Feature_2_sink', 'Feature_2_window', 'Feature_2_cabinet', 'Feature_2_cup', 'Feature_2_plant', 'Feature_2_girl', 'Feature_2_curtain', 'Feature_2_floor', 'Feature_3', 'log_embed_ds', 'sentence_num', 'word_per_sentence', 'group1_score', 'group2_score', 'group3_score', 'group4_score', 'avg_clip_score']\n"
     ]
    }
   ],
   "source": [
    "# 加载数据\n",
    "cols_A = list(pd.read_csv(\"/hdd/wmh/other/Cookie_Thieft/feature/\"\n",
    "                        \"LIWC-22 Results - all_Control_out - LIWC Analysis.csv\").columns)[2:]\n",
    "\n",
    "cols_B = list(pd.read_csv(\"/hdd/wmh/other/Cookie_Thieft/feature/pos_tag.csv\").columns)[3:]\n",
    "A = cols_A.copy()\n",
    "\n",
    "abnormal_dataset = pd.read_csv(\"/hdd/wmh/other/Cookie_Thieft/feature/merged_abnormal.csv\")\n",
    "normal_dataset = pd.read_csv(\"/hdd/wmh/other/Cookie_Thieft//feature/merged_normal.csv\")\n",
    "\n",
    "data = normal_dataset\n",
    "data = pd.concat([abnormal_dataset, normal_dataset])\n",
    "\n",
    "\"\"\"删除embed_ds 特征\"\"\"\n",
    "print(data.shape)\n",
    "print(\"================\")\n",
    "for col in cols_A:\n",
    "    data = data.drop(col, axis=1)\n",
    "\n",
    "for col in cols_B:\n",
    "    data = data.drop(col, axis=1)\n",
    "\n",
    "# try 1\n",
    "data = data.drop('Feature_4', axis=1)\n",
    "# try 2 -- 保留\n",
    "data = data.drop('words_num', axis=1)\n",
    "# try 3\n",
    "del_cols = ['Feature_2_high', 'Feature_2_mid-high', 'Feature_2_mid', 'Feature_2_low']\n",
    "for col in del_cols:\n",
    "    data = data.drop(col, axis=1)\n",
    "\n",
    "print(data.shape)\n",
    "print(list(data.columns))\n",
    "\n",
    "# binary = ['sex', 'c_charge_degree']\n",
    "# other = ['age', 'race', 'priors_count', 'length_of_stay']\n",
    "binary = []\n",
    "other = list(data.columns)[2:]\n",
    "# other1 = ['Feature_1_high', 'Feature_1_mid-high', 'Feature_1_mid']# , 'Feature_1_low']\n",
    "# other2 = ['Feature_2_high', 'Feature_2_mid-high']# , 'Feature_2_mid', 'Feature_2_low']\n",
    "# other3 = [x for x in ['Feature_2_sink', 'Feature_2_dish', 'Feature_2_mother', 'Feature_2_stool',\n",
    "#           'Feature_2_boy', 'Feature_2_water', 'Feature_2_jar', 'Feature_2_cookie'] if x in data.columns]\n",
    "\n",
    "# scaler = MinMaxScaler((-1, 1))\n",
    "# scaler = Normalizer()\n",
    "# scaler = StandardScaler()\n",
    "# data[other] = scaler.fit_transform(data[other])\n",
    "# data[other] = scaler.fit_transform(data[other])\n",
    "\n",
    "data_train, data_test = train_test_split(data, train_size=0.9, test_size=0.1, random_state=seed)\n",
    "# print(data_train)\n",
    "\n",
    "X_train, y_train = data_train[other + binary], data_train['label']\n",
    "# X_valid, y_valid = data_valid[other + binary], data_valid['label']\n",
    "X_test, y_test = data_test[other + binary], data_test['label']"
   ]
  },
  {
   "cell_type": "code",
   "execution_count": 17,
   "metadata": {},
   "outputs": [],
   "source": [
    "data.to_csv(\"feature.csv\", index=False)"
   ]
  },
  {
   "cell_type": "code",
   "execution_count": 5,
   "metadata": {
    "scrolled": true
   },
   "outputs": [],
   "source": [
    "model = NAMClassifier(\n",
    "        num_epochs=300,\n",
    "        num_learners=5,\n",
    "        metric='neg_log_loss',\n",
    "        early_stop_mode='min',\n",
    "        monitor_loss=True,\n",
    "        lr=1e-3,\n",
    "        hidden_sizes=[32, 16],\n",
    "        batch_size=8,\n",
    "        val_split=0.1,\n",
    "        n_jobs=16,\n",
    "        random_state=42,\n",
    "        decay_rate=1e-4,\n",
    "        warm_start=True,\n",
    "        device='cuda',\n",
    "    )"
   ]
  },
  {
   "cell_type": "code",
   "execution_count": 6,
   "metadata": {
    "scrolled": true
   },
   "outputs": [
    {
     "name": "stdout",
     "output_type": "stream",
     "text": [
      "0     tensor(0.7353, device='cuda:0', grad_fn=<DivBackward0>)     tensor(0.6724, device='cuda:0')\n",
      "1     tensor(0.6414, device='cuda:0', grad_fn=<DivBackward0>)     tensor(0.6285, device='cuda:0')\n",
      "2     tensor(0.6088, device='cuda:0', grad_fn=<DivBackward0>)     tensor(0.6240, device='cuda:0')\n",
      "3     tensor(0.6010, device='cuda:0', grad_fn=<DivBackward0>)     tensor(0.5886, device='cuda:0')\n",
      "4     tensor(0.5625, device='cuda:0', grad_fn=<DivBackward0>)     tensor(0.5450, device='cuda:0')\n",
      "5     tensor(0.5504, device='cuda:0', grad_fn=<DivBackward0>)     tensor(0.5499, device='cuda:0')\n",
      "6     tensor(0.5196, device='cuda:0', grad_fn=<DivBackward0>)     tensor(0.5265, device='cuda:0')\n",
      "7     tensor(0.5535, device='cuda:0', grad_fn=<DivBackward0>)     tensor(0.5395, device='cuda:0')\n",
      "8     tensor(0.5417, device='cuda:0', grad_fn=<DivBackward0>)     tensor(0.5374, device='cuda:0')\n",
      "9     tensor(0.5198, device='cuda:0', grad_fn=<DivBackward0>)     tensor(0.5335, device='cuda:0')\n",
      "10     tensor(0.5291, device='cuda:0', grad_fn=<DivBackward0>)     tensor(0.5389, device='cuda:0')\n",
      "11     tensor(0.5013, device='cuda:0', grad_fn=<DivBackward0>)     tensor(0.5623, device='cuda:0')\n",
      "12     tensor(0.5097, device='cuda:0', grad_fn=<DivBackward0>)     tensor(0.5725, device='cuda:0')\n",
      "13     tensor(0.5277, device='cuda:0', grad_fn=<DivBackward0>)     tensor(0.5472, device='cuda:0')\n",
      "14     tensor(0.5200, device='cuda:0', grad_fn=<DivBackward0>)     tensor(0.5271, device='cuda:0')\n",
      "15     tensor(0.5142, device='cuda:0', grad_fn=<DivBackward0>)     tensor(0.6915, device='cuda:0')\n",
      "16     tensor(0.5186, device='cuda:0', grad_fn=<DivBackward0>)     tensor(0.5271, device='cuda:0')\n",
      "17     tensor(0.5007, device='cuda:0', grad_fn=<DivBackward0>)     tensor(0.5368, device='cuda:0')\n",
      "18     tensor(0.5021, device='cuda:0', grad_fn=<DivBackward0>)     tensor(0.5303, device='cuda:0')\n",
      "19     tensor(0.5159, device='cuda:0', grad_fn=<DivBackward0>)     tensor(0.5225, device='cuda:0')\n",
      "20     tensor(0.5054, device='cuda:0', grad_fn=<DivBackward0>)     tensor(0.5286, device='cuda:0')\n",
      "21     tensor(0.5204, device='cuda:0', grad_fn=<DivBackward0>)     tensor(0.5174, device='cuda:0')\n",
      "22     tensor(0.5088, device='cuda:0', grad_fn=<DivBackward0>)     tensor(0.5195, device='cuda:0')\n",
      "23     tensor(0.5137, device='cuda:0', grad_fn=<DivBackward0>)     tensor(0.5140, device='cuda:0')\n",
      "24     tensor(0.5126, device='cuda:0', grad_fn=<DivBackward0>)     tensor(0.5440, device='cuda:0')\n",
      "25     tensor(0.4976, device='cuda:0', grad_fn=<DivBackward0>)     tensor(0.5537, device='cuda:0')\n",
      "26     tensor(0.5103, device='cuda:0', grad_fn=<DivBackward0>)     tensor(0.5300, device='cuda:0')\n",
      "27     tensor(0.4802, device='cuda:0', grad_fn=<DivBackward0>)     tensor(0.5179, device='cuda:0')\n",
      "28     tensor(0.4943, device='cuda:0', grad_fn=<DivBackward0>)     tensor(0.5252, device='cuda:0')\n",
      "29     tensor(0.4621, device='cuda:0', grad_fn=<DivBackward0>)     tensor(0.5423, device='cuda:0')\n",
      "30     tensor(0.5020, device='cuda:0', grad_fn=<DivBackward0>)     tensor(0.5213, device='cuda:0')\n",
      "31     tensor(0.4987, device='cuda:0', grad_fn=<DivBackward0>)     tensor(0.5366, device='cuda:0')\n",
      "32     tensor(0.4871, device='cuda:0', grad_fn=<DivBackward0>)     tensor(0.5339, device='cuda:0')\n",
      "33     tensor(0.4726, device='cuda:0', grad_fn=<DivBackward0>)     tensor(0.5301, device='cuda:0')\n",
      "34     tensor(0.5211, device='cuda:0', grad_fn=<DivBackward0>)     tensor(0.5247, device='cuda:0')\n",
      "35     tensor(0.4714, device='cuda:0', grad_fn=<DivBackward0>)     tensor(0.5282, device='cuda:0')\n",
      "36     tensor(0.4951, device='cuda:0', grad_fn=<DivBackward0>)     tensor(0.5273, device='cuda:0')\n",
      "37     tensor(0.4750, device='cuda:0', grad_fn=<DivBackward0>)     tensor(0.5292, device='cuda:0')\n",
      "38     tensor(0.4870, device='cuda:0', grad_fn=<DivBackward0>)     tensor(0.5189, device='cuda:0')\n",
      "39     tensor(0.4930, device='cuda:0', grad_fn=<DivBackward0>)     tensor(0.5537, device='cuda:0')\n",
      "40     tensor(0.5008, device='cuda:0', grad_fn=<DivBackward0>)     tensor(0.5465, device='cuda:0')\n",
      "41     tensor(0.4974, device='cuda:0', grad_fn=<DivBackward0>)     tensor(0.5230, device='cuda:0')\n",
      "42     tensor(0.4784, device='cuda:0', grad_fn=<DivBackward0>)     tensor(0.5185, device='cuda:0')\n",
      "43     tensor(0.4738, device='cuda:0', grad_fn=<DivBackward0>)     tensor(0.5256, device='cuda:0')\n",
      "44     tensor(0.4899, device='cuda:0', grad_fn=<DivBackward0>)     tensor(0.5909, device='cuda:0')\n",
      "45     tensor(0.4674, device='cuda:0', grad_fn=<DivBackward0>)     tensor(0.5316, device='cuda:0')\n",
      "46     tensor(0.4702, device='cuda:0', grad_fn=<DivBackward0>)     tensor(0.5520, device='cuda:0')\n",
      "47     tensor(0.4694, device='cuda:0', grad_fn=<DivBackward0>)     tensor(0.5194, device='cuda:0')\n",
      "48     tensor(0.4756, device='cuda:0', grad_fn=<DivBackward0>)     tensor(0.5229, device='cuda:0')\n",
      "49     tensor(0.4710, device='cuda:0', grad_fn=<DivBackward0>)     tensor(0.5204, device='cuda:0')\n",
      "50     tensor(0.4785, device='cuda:0', grad_fn=<DivBackward0>)     tensor(0.5285, device='cuda:0')\n",
      "51     tensor(0.4791, device='cuda:0', grad_fn=<DivBackward0>)     tensor(0.5052, device='cuda:0')\n",
      "52     tensor(0.4789, device='cuda:0', grad_fn=<DivBackward0>)     tensor(0.5094, device='cuda:0')\n",
      "53     tensor(0.4710, device='cuda:0', grad_fn=<DivBackward0>)     tensor(0.5200, device='cuda:0')\n",
      "54     tensor(0.4556, device='cuda:0', grad_fn=<DivBackward0>)     tensor(0.5113, device='cuda:0')\n",
      "55     tensor(0.4651, device='cuda:0', grad_fn=<DivBackward0>)     tensor(0.5274, device='cuda:0')\n",
      "56     tensor(0.4931, device='cuda:0', grad_fn=<DivBackward0>)     tensor(0.5032, device='cuda:0')\n",
      "57     tensor(0.4759, device='cuda:0', grad_fn=<DivBackward0>)     tensor(0.5318, device='cuda:0')\n",
      "58     tensor(0.4664, device='cuda:0', grad_fn=<DivBackward0>)     tensor(0.5092, device='cuda:0')\n",
      "59     tensor(0.5044, device='cuda:0', grad_fn=<DivBackward0>)     tensor(0.5087, device='cuda:0')\n",
      "60     tensor(0.4605, device='cuda:0', grad_fn=<DivBackward0>)     tensor(0.5177, device='cuda:0')\n",
      "61     tensor(0.4786, device='cuda:0', grad_fn=<DivBackward0>)     tensor(0.5139, device='cuda:0')\n",
      "62     tensor(0.4679, device='cuda:0', grad_fn=<DivBackward0>)     tensor(0.5163, device='cuda:0')\n",
      "63     tensor(0.4802, device='cuda:0', grad_fn=<DivBackward0>)     tensor(0.5145, device='cuda:0')\n",
      "64     tensor(0.4618, device='cuda:0', grad_fn=<DivBackward0>)     tensor(0.5399, device='cuda:0')\n",
      "65     tensor(0.4910, device='cuda:0', grad_fn=<DivBackward0>)     tensor(0.5192, device='cuda:0')\n",
      "66     tensor(0.4550, device='cuda:0', grad_fn=<DivBackward0>)     tensor(0.5209, device='cuda:0')\n",
      "67     tensor(0.4782, device='cuda:0', grad_fn=<DivBackward0>)     tensor(0.5133, device='cuda:0')\n",
      "68     tensor(0.4728, device='cuda:0', grad_fn=<DivBackward0>)     tensor(0.5317, device='cuda:0')\n",
      "69     tensor(0.4780, device='cuda:0', grad_fn=<DivBackward0>)     tensor(0.5059, device='cuda:0')\n",
      "70     tensor(0.4708, device='cuda:0', grad_fn=<DivBackward0>)     tensor(0.5195, device='cuda:0')\n",
      "71     tensor(0.4593, device='cuda:0', grad_fn=<DivBackward0>)     tensor(0.5163, device='cuda:0')\n",
      "72     tensor(0.4885, device='cuda:0', grad_fn=<DivBackward0>)     tensor(0.5219, device='cuda:0')\n",
      "73     tensor(0.4843, device='cuda:0', grad_fn=<DivBackward0>)     tensor(0.5263, device='cuda:0')\n",
      "74     tensor(0.4564, device='cuda:0', grad_fn=<DivBackward0>)     tensor(0.5265, device='cuda:0')\n",
      "75     tensor(0.4618, device='cuda:0', grad_fn=<DivBackward0>)     tensor(0.5287, device='cuda:0')\n",
      "76     tensor(0.4619, device='cuda:0', grad_fn=<DivBackward0>)     tensor(0.5568, device='cuda:0')\n",
      "77     tensor(0.4437, device='cuda:0', grad_fn=<DivBackward0>)     tensor(0.5229, device='cuda:0')\n",
      "78     tensor(0.4623, device='cuda:0', grad_fn=<DivBackward0>)     tensor(0.5153, device='cuda:0')\n",
      "79     tensor(0.4374, device='cuda:0', grad_fn=<DivBackward0>)     tensor(0.5267, device='cuda:0')\n",
      "80     tensor(0.4503, device='cuda:0', grad_fn=<DivBackward0>)     tensor(0.5468, device='cuda:0')\n",
      "81     tensor(0.4679, device='cuda:0', grad_fn=<DivBackward0>)     tensor(0.5917, device='cuda:0')\n",
      "82     tensor(0.4643, device='cuda:0', grad_fn=<DivBackward0>)     0     tensor(0.7378, device='cuda:0', grad_fn=<DivBackward0>)     tensor(0.5756, device='cuda:0')\n",
      "1     tensor(0.6632, device='cuda:0', grad_fn=<DivBackward0>)     tensor(0.6210, device='cuda:0')\n",
      "2     tensor(0.6050, device='cuda:0', grad_fn=<DivBackward0>)     tensor(0.5313, device='cuda:0')\n",
      "3     tensor(0.5681, device='cuda:0', grad_fn=<DivBackward0>)     tensor(0.5455, device='cuda:0')\n",
      "4     tensor(0.5674, device='cuda:0', grad_fn=<DivBackward0>)     tensor(0.5071, device='cuda:0')\n",
      "5     tensor(0.5392, device='cuda:0', grad_fn=<DivBackward0>)     tensor(0.5182, device='cuda:0')\n",
      "6     tensor(0.5199, device='cuda:0', grad_fn=<DivBackward0>)     tensor(0.5075, device='cuda:0')\n",
      "7     tensor(0.5407, device='cuda:0', grad_fn=<DivBackward0>)     tensor(0.5555, device='cuda:0')\n",
      "8     tensor(0.5390, device='cuda:0', grad_fn=<DivBackward0>)     tensor(0.5136, device='cuda:0')\n",
      "9     tensor(0.5015, device='cuda:0', grad_fn=<DivBackward0>)     tensor(0.5129, device='cuda:0')\n",
      "10     tensor(0.5092, device='cuda:0', grad_fn=<DivBackward0>)     tensor(0.5149, device='cuda:0')\n",
      "11     tensor(0.4879, device='cuda:0', grad_fn=<DivBackward0>)     tensor(0.5129, device='cuda:0')\n",
      "12     tensor(0.5241, device='cuda:0', grad_fn=<DivBackward0>)     tensor(0.5146, device='cuda:0')\n",
      "13     tensor(0.5207, device='cuda:0', grad_fn=<DivBackward0>)     tensor(0.5113, device='cuda:0')\n",
      "14     tensor(0.5092, device='cuda:0', grad_fn=<DivBackward0>)     tensor(0.5362, device='cuda:0')\n",
      "15     tensor(0.5018, device='cuda:0', grad_fn=<DivBackward0>)     tensor(0.5154, device='cuda:0')\n",
      "16     tensor(0.4971, device='cuda:0', grad_fn=<DivBackward0>)     tensor(0.5576, device='cuda:0')\n",
      "17     tensor(0.5119, device='cuda:0', grad_fn=<DivBackward0>)     tensor(0.5124, device='cuda:0')\n",
      "18     tensor(0.4945, device='cuda:0', grad_fn=<DivBackward0>)     tensor(0.5293, device='cuda:0')\n",
      "19     tensor(0.5041, device='cuda:0', grad_fn=<DivBackward0>)     tensor(0.5140, device='cuda:0')\n",
      "20     tensor(0.5139, device='cuda:0', grad_fn=<DivBackward0>)     tensor(0.5158, device='cuda:0')\n",
      "21     tensor(0.4844, device='cuda:0', grad_fn=<DivBackward0>)     tensor(0.5055, device='cuda:0')\n",
      "22     tensor(0.4918, device='cuda:0', grad_fn=<DivBackward0>)     tensor(0.5174, device='cuda:0')\n",
      "23     tensor(0.4845, device='cuda:0', grad_fn=<DivBackward0>)     tensor(0.5504, device='cuda:0')\n",
      "24     tensor(0.4940, device='cuda:0', grad_fn=<DivBackward0>)     tensor(0.5734, device='cuda:0')\n",
      "25     tensor(0.4776, device='cuda:0', grad_fn=<DivBackward0>)     tensor(0.5213, device='cuda:0')\n",
      "26     tensor(0.4962, device='cuda:0', grad_fn=<DivBackward0>)     tensor(0.5219, device='cuda:0')\n",
      "27     tensor(0.4958, device='cuda:0', grad_fn=<DivBackward0>)     tensor(0.5259, device='cuda:0')\n",
      "28     tensor(0.4729, device='cuda:0', grad_fn=<DivBackward0>)     tensor(0.5193, device='cuda:0')\n",
      "29     tensor(0.4850, device='cuda:0', grad_fn=<DivBackward0>)     tensor(0.5132, device='cuda:0')\n",
      "30     tensor(0.4983, device='cuda:0', grad_fn=<DivBackward0>)     tensor(0.5509, device='cuda:0')\n",
      "31     tensor(0.4743, device='cuda:0', grad_fn=<DivBackward0>)     tensor(0.5191, device='cuda:0')\n",
      "32     tensor(0.4661, device='cuda:0', grad_fn=<DivBackward0>)     tensor(0.5120, device='cuda:0')\n",
      "33     tensor(0.4829, device='cuda:0', grad_fn=<DivBackward0>)     tensor(0.5352, device='cuda:0')\n",
      "34     tensor(0.4902, device='cuda:0', grad_fn=<DivBackward0>)     tensor(0.5470, device='cuda:0')\n",
      "35     tensor(0.4985, device='cuda:0', grad_fn=<DivBackward0>)     tensor(0.5307, device='cuda:0')\n",
      "36     tensor(0.4915, device='cuda:0', grad_fn=<DivBackward0>)     tensor(0.5377, device='cuda:0')\n",
      "37     tensor(0.4970, device='cuda:0', grad_fn=<DivBackward0>)     tensor(0.5316, device='cuda:0')\n",
      "38     tensor(0.4637, device='cuda:0', grad_fn=<DivBackward0>)     tensor(0.5351, device='cuda:0')\n",
      "39     tensor(0.4726, device='cuda:0', grad_fn=<DivBackward0>)     tensor(0.5184, device='cuda:0')\n",
      "40     tensor(0.4953, device='cuda:0', grad_fn=<DivBackward0>)     tensor(0.5186, device='cuda:0')\n",
      "41     tensor(0.4726, device='cuda:0', grad_fn=<DivBackward0>)     tensor(0.5548, device='cuda:0')\n",
      "42     tensor(0.4911, device='cuda:0', grad_fn=<DivBackward0>)     tensor(0.5231, device='cuda:0')\n",
      "43     tensor(0.4833, device='cuda:0', grad_fn=<DivBackward0>)     tensor(0.5537, device='cuda:0')\n",
      "44     tensor(0.4769, device='cuda:0', grad_fn=<DivBackward0>)     tensor(0.5218, device='cuda:0')\n",
      "45     tensor(0.4643, device='cuda:0', grad_fn=<DivBackward0>)     tensor(0.5184, device='cuda:0')\n",
      "46     tensor(0.4533, device='cuda:0', grad_fn=<DivBackward0>)     tensor(0.5153, device='cuda:0')\n",
      "47     tensor(0.5049, device='cuda:0', grad_fn=<DivBackward0>)     tensor(0.5161, device='cuda:0')\n",
      "48     tensor(0.4531, device='cuda:0', grad_fn=<DivBackward0>)     tensor(0.5652, device='cuda:0')\n",
      "49     tensor(0.4780, device='cuda:0', grad_fn=<DivBackward0>)     tensor(0.5252, device='cuda:0')\n",
      "50     tensor(0.4695, device='cuda:0', grad_fn=<DivBackward0>)     tensor(0.5100, device='cuda:0')\n",
      "51     tensor(0.4842, device='cuda:0', grad_fn=<DivBackward0>)     tensor(0.5162, device='cuda:0')\n",
      "52     tensor(0.4761, device='cuda:0', grad_fn=<DivBackward0>)     tensor(0.5165, device='cuda:0')\n",
      "53     tensor(0.4754, device='cuda:0', grad_fn=<DivBackward0>)     tensor(0.5202, device='cuda:0')\n",
      "54     tensor(0.4742, device='cuda:0', grad_fn=<DivBackward0>)     tensor(0.5402, device='cuda:0')\n",
      "55     tensor(0.4741, device='cuda:0', grad_fn=<DivBackward0>)     tensor(0.5199, device='cuda:0')\n",
      "56     tensor(0.4580, device='cuda:0', grad_fn=<DivBackward0>)     tensor(0.5208, device='cuda:0')\n",
      "57     tensor(0.4687, device='cuda:0', grad_fn=<DivBackward0>)     tensor(0.5354, device='cuda:0')\n",
      "58     tensor(0.4614, device='cuda:0', grad_fn=<DivBackward0>)     tensor(0.5157, device='cuda:0')\n",
      "59     tensor(0.4580, device='cuda:0', grad_fn=<DivBackward0>)     tensor(0.5261, device='cuda:0')\n",
      "60     tensor(0.4875, device='cuda:0', grad_fn=<DivBackward0>)     tensor(0.5396, device='cuda:0')\n",
      "61     tensor(0.4827, device='cuda:0', grad_fn=<DivBackward0>)     tensor(0.5404, device='cuda:0')\n",
      "62     tensor(0.4516, device='cuda:0', grad_fn=<DivBackward0>)     tensor(0.5254, device='cuda:0')\n",
      "63     tensor(0.4651, device='cuda:0', grad_fn=<DivBackward0>)     tensor(0.5163, device='cuda:0')\n",
      "64     tensor(0.4635, device='cuda:0', grad_fn=<DivBackward0>)     tensor(0.5150, device='cuda:0')\n",
      "65     tensor(0.4788, device='cuda:0', grad_fn=<DivBackward0>)     tensor(0.5234, device='cuda:0')\n",
      "66     tensor(0.4791, device='cuda:0', grad_fn=<DivBackward0>)     tensor(0.5188, device='cuda:0')\n",
      "67     tensor(0.4444, device='cuda:0', grad_fn=<DivBackward0>)     tensor(0.5144, device='cuda:0')\n",
      "68     tensor(0.4776, device='cuda:0', grad_fn=<DivBackward0>)     tensor(0.5154, device='cuda:0')\n",
      "69     tensor(0.4752, device='cuda:0', grad_fn=<DivBackward0>)     tensor(0.5088, device='cuda:0')\n",
      "70     tensor(0.4924, device='cuda:0', grad_fn=<DivBackward0>)     tensor(0.5309, device='cuda:0')\n",
      "71     tensor(0.4779, device='cuda:0', grad_fn=<DivBackward0>)     tensor(0.5075, device='cuda:0')\n",
      "72     tensor(0.4532, device='cuda:0', grad_fn=<DivBackward0>)     tensor(0.5016, device='cuda:0')\n",
      "73     tensor(0.4819, device='cuda:0', grad_fn=<DivBackward0>)     tensor(0.5049, device='cuda:0')\n",
      "74     tensor(0.4762, device='cuda:0', grad_fn=<DivBackward0>)     tensor(0.4976, device='cuda:0')\n",
      "75     tensor(0.4431, device='cuda:0', grad_fn=<DivBackward0>)     tensor(0.5233, device='cuda:0')\n",
      "76     tensor(0.4705, device='cuda:0', grad_fn=<DivBackward0>)     tensor(0.5029, device='cuda:0')\n",
      "77     tensor(0.4871, device='cuda:0', grad_fn=<DivBackward0>)     tensor(0.5078, device='cuda:0')\n",
      "78     tensor(0.4714, device='cuda:0', grad_fn=<DivBackward0>)     tensor(0.5418, device='cuda:0')\n",
      "79     tensor(0.4812, device='cuda:0', grad_fn=<DivBackward0>)     tensor(0.5423, device='cuda:0')\n",
      "80     tensor(0.4567, device='cuda:0', grad_fn=<DivBackward0>)     tensor(0.5304, device='cuda:0')\n",
      "81     tensor(0.4613, device='cuda:0', grad_fn=<DivBackward0>)     tensor(0.5155, device='cuda:0')\n",
      "82     tensor(0.4610, device='cuda:0', grad_fn=<DivBackward0>)     "
     ]
    },
    {
     "data": {
      "text/plain": [
       "<nam.wrapper.wrapper.NAMClassifier at 0x7f912ea2ec20>"
      ]
     },
     "execution_count": 6,
     "metadata": {},
     "output_type": "execute_result"
    }
   ],
   "source": [
    "model.fit(X_train, y_train)"
   ]
  },
  {
   "cell_type": "code",
   "execution_count": 7,
   "metadata": {
    "scrolled": true
   },
   "outputs": [],
   "source": [
    "# pred = model.predict_proba(X_test)\n",
    "# sk_metrics.roc_auc_score(y_test, pred)"
   ]
  },
  {
   "cell_type": "code",
   "execution_count": null,
   "metadata": {},
   "outputs": [],
   "source": []
  },
  {
   "cell_type": "code",
   "execution_count": 8,
   "metadata": {},
   "outputs": [],
   "source": [
    "model = NAMClassifier(\n",
    "        num_epochs=300,\n",
    "        num_learners=5,\n",
    "        metric='neg_log_loss',\n",
    "        early_stop_mode='min',\n",
    "        monitor_loss=True,\n",
    "        lr=1e-3,\n",
    "        hidden_sizes=[32, 16],\n",
    "        batch_size=8,\n",
    "        val_split=0.1,\n",
    "        n_jobs=16,\n",
    "        random_state=42,\n",
    "        decay_rate=1e-4,\n",
    "        warm_start=True,\n",
    "        device='cuda',\n",
    "    )\n",
    "model.load_checkpoints('/hdd/wmh/other/Cookie_Thieft/nam/output/')"
   ]
  },
  {
   "cell_type": "code",
   "execution_count": 9,
   "metadata": {
    "scrolled": true
   },
   "outputs": [],
   "source": [
    "# Evaluate performance of the best model on test set\n",
    "y_true, y_pred = y_test, model.predict(X_test)\n",
    "y_prob = model.predict_proba(X_test) "
   ]
  },
  {
   "cell_type": "code",
   "execution_count": 10,
   "metadata": {
    "scrolled": true
   },
   "outputs": [
    {
     "name": "stdout",
     "output_type": "stream",
     "text": [
      "Accuracy metrics\n",
      "AUC, ACC, Recall, Precision, F1_score\n",
      "[0.9103, 0.8364, 0.8462, 0.9167, 0.88]\n"
     ]
    }
   ],
   "source": [
    "# Performance Metrics: AUC, ACC, Recall, Precision, F1_score\n",
    "metrics = [round(roc_auc_score(y_true, y_prob[:]), 4), round(accuracy_score(y_true, y_pred), 4),\n",
    "           round(recall_score(y_true, y_pred), 4), round(precision_score(y_true, y_pred), 4),\n",
    "           round(f1_score(y_true, y_pred), 4),\n",
    "           ]\n",
    "\n",
    "print('Accuracy metrics')\n",
    "print('AUC, ACC, Recall, Precision, F1_score')\n",
    "print(metrics)"
   ]
  },
  {
   "cell_type": "code",
   "execution_count": 11,
   "metadata": {
    "scrolled": true
   },
   "outputs": [],
   "source": [
    "# [0.7469, 0.7, 0.8281, 0.7067, 0.7626] num_epochs=1000, max false 0.001"
   ]
  },
  {
   "cell_type": "code",
   "execution_count": 12,
   "metadata": {},
   "outputs": [],
   "source": [
    "# [0.6075, 0.6, 0.8065, 0.6098, 0.6944]"
   ]
  },
  {
   "cell_type": "code",
   "execution_count": 13,
   "metadata": {},
   "outputs": [],
   "source": [
    "for m in model.models:\n",
    "    m.eval() "
   ]
  },
  {
   "cell_type": "code",
   "execution_count": null,
   "metadata": {},
   "outputs": [],
   "source": []
  },
  {
   "cell_type": "code",
   "execution_count": 14,
   "metadata": {},
   "outputs": [],
   "source": [
    "import shutil\n",
    "import os\n",
    "# if not os.path.exists(f\"./output/ours/{seed}/\"):\n",
    "#     os.makedirs(f\"./output/ours/{seed}/\")"
   ]
  },
  {
   "cell_type": "code",
   "execution_count": 15,
   "metadata": {},
   "outputs": [],
   "source": [
    "# 移动文件\n",
    "for i in range(5):\n",
    "    shutil.copytree(f\"./output/{i}/\", f\"./output/ours/{seed}/{i}\")"
   ]
  }
 ],
 "metadata": {
  "kernelspec": {
   "display_name": "Python 3 (ipykernel)",
   "language": "python",
   "name": "python3"
  },
  "language_info": {
   "codemirror_mode": {
    "name": "ipython",
    "version": 3
   },
   "file_extension": ".py",
   "mimetype": "text/x-python",
   "name": "python",
   "nbconvert_exporter": "python",
   "pygments_lexer": "ipython3",
   "version": "3.10.12"
  }
 },
 "nbformat": 4,
 "nbformat_minor": 4
}
